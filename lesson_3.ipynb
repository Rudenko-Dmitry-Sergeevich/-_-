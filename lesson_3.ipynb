{
 "cells": [
  {
   "cell_type": "markdown",
   "id": "009c3870-17ca-45b3-a408-a9af32735a1e",
   "metadata": {},
   "source": [
    "# Урок 3"
   ]
  },
  {
   "cell_type": "markdown",
   "id": "0513e9af-2b64-47ec-8a9d-d46bd8eade1a",
   "metadata": {},
   "source": [
    "# Линейные преобразования"
   ]
  },
  {
   "cell_type": "markdown",
   "id": "a989c60c-f646-4d2a-a486-6015922a52c0",
   "metadata": {},
   "source": [
    "__1.__ Найдите собственные векторы и собственные значения для линейного оператора, заданного матрицей:\n",
    "\n",
    "$$A=\\begin{pmatrix}\n",
    "-1 & -6\\\\ \n",
    "2 & 6\n",
    "\\end{pmatrix}.$$"
   ]
  },
  {
   "cell_type": "markdown",
   "id": "53c49776-16c7-45ee-b72b-72713964f31c",
   "metadata": {},
   "source": [
    "__Решение:__"
   ]
  },
  {
   "cell_type": "markdown",
   "id": "f61c39d5-92b1-46de-b4ed-b3f560220db5",
   "metadata": {},
   "source": [
    "Найдём собственные значения линейного оператора составив и решив ,\n",
    "характеристическое уравнение :<br>\n",
    "$\\begin{vmatrix}\n",
    "-1-\\lambda_{} & 6 \\\\ \n",
    "2 & 6-\\lambda_{}\n",
    "\\end{vmatrix}$=$0$<br>\n",
    "$(-1-\\lambda_{})(6-\\lambda_{})+2*6=0$<br>\n",
    "$\\lambda_{}-5\\lambda+6=0$<br>\n",
    "$D=1$<br>\n",
    "$\\lambda_{1,2}=\\frac{5\\pm\\sqrt{1}}{2}$<br>\n",
    "$\\lambda_{1}=3$<br>\n",
    "$\\lambda_{2}=2$<br>"
   ]
  },
  {
   "cell_type": "markdown",
   "id": "89a9ba51-a0ef-442b-95dc-2fd977ea80a4",
   "metadata": {},
   "source": [
    "Найдем собственные вектора: Для\n",
    "$\\lambda_{1}=2\\begin{pmatrix}\n",
    "-1 & -6\\\\ \n",
    "2 & 6\n",
    "\\end{pmatrix}\\begin{pmatrix}\n",
    "x \\\\ \n",
    "y \n",
    "\\end{pmatrix}=2\\begin{pmatrix}\n",
    "x \\\\ \n",
    "y \n",
    "\\end{pmatrix}\\begin{cases}\n",
    "-x-6y=2x \\\\\n",
    "2x+6y=2y\n",
    "\\end{cases},\\begin{cases}\n",
    "x=2y \\\\\n",
    "y=y\n",
    "\\end{cases}$ Первый собственный вектор в общем виде $\\begin{pmatrix}\n",
    "-2y \\\\ \n",
    "y \n",
    "\\end{pmatrix}.$ Для $\\lambda_{2}=3\\begin{pmatrix}\n",
    "-1 & -6\\\\ \n",
    "2 & 6\n",
    "\\end{pmatrix}\\begin{pmatrix}\n",
    "x \\\\ \n",
    "y \n",
    "\\end{pmatrix}=3\\begin{pmatrix}\n",
    "x \\\\ \n",
    "y \n",
    "\\end{pmatrix}\\begin{cases}\n",
    "-x-6y=3x \\\\\n",
    "2x+6y=3y\n",
    "\\end{cases},\\begin{cases}\n",
    "x=-\\frac{2}{3}y\\\\\n",
    "y=y\n",
    "\\end{cases}$ Второй собственный вектор в общем\n",
    "виде $\\begin{pmatrix}\n",
    "-1.5y \\\\ \n",
    "y \n",
    "\\end{pmatrix}.$<br>\n",
    "\n"
   ]
  },
  {
   "cell_type": "markdown",
   "id": "d7a496da-ca6c-41c9-8ee7-6b9fc9691fb8",
   "metadata": {},
   "source": [
    "__2.__ Дан оператор поворота на 180 градусов, задаваемый матрицей:\n",
    "\n",
    "$$A=\\begin{pmatrix}\n",
    "-1 & 0\\\\ \n",
    "0 & -1\n",
    "\\end{pmatrix}.$$\n",
    "\n",
    "Покажите, что __любой__ вектор считается для него собственным."
   ]
  },
  {
   "cell_type": "markdown",
   "id": "a5a06260-bb26-4357-9830-a54278e168d0",
   "metadata": {},
   "source": [
    "__Решение:__"
   ]
  },
  {
   "cell_type": "markdown",
   "id": "96c09ca0-9e41-4538-968e-5c08602d1051",
   "metadata": {},
   "source": [
    "$A=\\begin{pmatrix}\n",
    "-1 & 0\\\\ \n",
    "0 & -1\n",
    "\\end{pmatrix}\\begin{pmatrix}\n",
    "x \\\\ \n",
    "y \n",
    "\\end{pmatrix}=\\lambda\\begin{pmatrix}\n",
    "x \\\\ \n",
    "y \n",
    "\\end{pmatrix}$"
   ]
  },
  {
   "cell_type": "markdown",
   "id": "c15a4282-90ab-41ab-8487-52417448c85b",
   "metadata": {},
   "source": [
    "Собственное значение $\\lambda_{1}=\\lambda_{2}=-1$<br>\n",
    "Нахождение собственных вектооров $\\begin{cases}\n",
    "x=-x \\\\\n",
    "y=-y\n",
    "\\end{cases}$"
   ]
  },
  {
   "cell_type": "markdown",
   "id": "80d9ae3d-712f-4d9b-9efb-bc936bb3def5",
   "metadata": {},
   "source": [
    "Система верна при любых значениях и это означает что любой вектор x y, является для данного оператора собственным"
   ]
  },
  {
   "cell_type": "markdown",
   "id": "309c86b0-eb87-4c15-a6eb-e4dcbc413c21",
   "metadata": {},
   "source": [
    "__3.__ Пусть линейный оператор задан матрицей:\n",
    "\n",
    "$$A=\\begin{pmatrix}\n",
    "1 & 1\\\\ \n",
    "-1 & 3\n",
    "\\end{pmatrix}.$$\n",
    "\n",
    "Установите, считается ли вектор $x=(1,1)$ собственным вектором этого линейного оператора."
   ]
  },
  {
   "cell_type": "markdown",
   "id": "be8c95c3-2e77-49bb-9ae3-df92e362c04a",
   "metadata": {},
   "source": [
    "__Решение:__"
   ]
  },
  {
   "cell_type": "markdown",
   "id": "690cc5df-1bd5-426f-a01d-c0c296057838",
   "metadata": {},
   "source": [
    "Найдем собственные значения матрицы :"
   ]
  },
  {
   "cell_type": "markdown",
   "id": "e6979c99-8a77-4aa7-9eb0-6e4524d9242a",
   "metadata": {},
   "source": [
    "$\\begin{vmatrix}\n",
    "1-\\lambda & 1 \\\\ \n",
    "-1 & 3-\\lambda\n",
    "\\end{vmatrix}=(1-\\lambda)(3-\\lambda)+1=0$<br>\n",
    "$\\lambda_{1}=\\lambda_{2}=2$<br>\n",
    "\n"
   ]
  },
  {
   "cell_type": "markdown",
   "id": "54f2569e-f291-4499-b5e1-535ce7311703",
   "metadata": {},
   "source": [
    "Подставим в систему наш вектор и проверим подойдут ли заданные, значения:<br>\n",
    "$\\begin{pmatrix}\n",
    "1 & 1\\\\ \n",
    "-1 & 3\n",
    "\\end{pmatrix}\\begin{pmatrix}\n",
    "1 \\\\ \n",
    "1 \n",
    "\\end{pmatrix}=2\\begin{pmatrix}\n",
    "1 \\\\ \n",
    "1 \n",
    "\\end{pmatrix}=\\begin{cases}\n",
    "2=2 \\\\\n",
    "2=2\n",
    "\\end{cases} $\n"
   ]
  },
  {
   "cell_type": "markdown",
   "id": "53f8d959-5fb3-4590-9ff8-0dc988db49ed",
   "metadata": {},
   "source": [
    "вектор является собственным"
   ]
  },
  {
   "cell_type": "code",
   "execution_count": null,
   "id": "9b9567af-f024-4929-aed2-36605623581e",
   "metadata": {},
   "outputs": [],
   "source": []
  }
 ],
 "metadata": {
  "kernelspec": {
   "display_name": "Python 3 (ipykernel)",
   "language": "python",
   "name": "python3"
  },
  "language_info": {
   "codemirror_mode": {
    "name": "ipython",
    "version": 3
   },
   "file_extension": ".py",
   "mimetype": "text/x-python",
   "name": "python",
   "nbconvert_exporter": "python",
   "pygments_lexer": "ipython3",
   "version": "3.9.12"
  }
 },
 "nbformat": 4,
 "nbformat_minor": 5
}
